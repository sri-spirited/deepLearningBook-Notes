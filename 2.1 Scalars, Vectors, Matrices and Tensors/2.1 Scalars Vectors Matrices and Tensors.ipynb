{
  "nbformat": 4,
  "nbformat_minor": 0,
  "metadata": {
    "kernelspec": {
      "display_name": "Python 3",
      "language": "python",
      "name": "python3"
    },
    "language_info": {
      "codemirror_mode": {
        "name": "ipython",
        "version": 3
      },
      "file_extension": ".py",
      "mimetype": "text/x-python",
      "name": "python",
      "nbconvert_exporter": "python",
      "pygments_lexer": "ipython3",
      "version": "3.7.2"
    },
    "toc": {
      "base_numbering": 1,
      "nav_menu": {},
      "number_sections": false,
      "sideBar": true,
      "skip_h1_title": false,
      "title_cell": "Table of Contents",
      "title_sidebar": "Contents",
      "toc_cell": false,
      "toc_position": {},
      "toc_section_display": true,
      "toc_window_display": false
    },
    "colab": {
      "name": "2.1 Scalars Vectors Matrices and Tensors.ipynb",
      "provenance": [],
      "include_colab_link": true
    }
  },
  "cells": [
    {
      "cell_type": "markdown",
      "metadata": {
        "id": "view-in-github",
        "colab_type": "text"
      },
      "source": [
        "<a href=\"https://colab.research.google.com/github/sri-spirited/deepLearningBook-Notes/blob/master/2.1%20Scalars%2C%20Vectors%2C%20Matrices%20and%20Tensors/2.1%20Scalars%20Vectors%20Matrices%20and%20Tensors.ipynb\" target=\"_parent\"><img src=\"https://colab.research.google.com/assets/colab-badge.svg\" alt=\"Open In Colab\"/></a>"
      ]
    },
    {
      "cell_type": "code",
      "metadata": {
        "id": "djfkYyUpM7V0",
        "colab_type": "code",
        "colab": {}
      },
      "source": [
        "import numpy as np"
      ],
      "execution_count": 1,
      "outputs": []
    },
    {
      "cell_type": "code",
      "metadata": {
        "id": "Bnl5WHcvM7V9",
        "colab_type": "code",
        "colab": {
          "base_uri": "https://localhost:8080/",
          "height": 17
        },
        "outputId": "18076788-2291-4c01-98fe-e4b4c92d144a"
      },
      "source": [
        "%%html\n",
        "<style>\n",
        ".pquote {\n",
        "  text-align: left;\n",
        "  margin: 40px 0 40px auto;\n",
        "  width: 70%;\n",
        "  font-size: 1.5em;\n",
        "  font-style: italic;\n",
        "  display: block;\n",
        "  line-height: 1.3em;\n",
        "  color: #5a75a7;\n",
        "  font-weight: 600;\n",
        "  border-left: 5px solid rgba(90, 117, 167, .1);\n",
        "  padding-left: 6px;\n",
        "}\n",
        ".notes {\n",
        "  font-style: italic;\n",
        "  display: block;\n",
        "  margin: 40px 10%;\n",
        "}\n",
        "img + em {\n",
        "  text-align: center;\n",
        "  display: block;\n",
        "  color: gray;\n",
        "  font-size: 0.9em;\n",
        "  font-weight: 600;\n",
        "}\n",
        "</style>"
      ],
      "execution_count": 2,
      "outputs": [
        {
          "output_type": "display_data",
          "data": {
            "text/html": [
              "<style>\n",
              ".pquote {\n",
              "  text-align: left;\n",
              "  margin: 40px 0 40px auto;\n",
              "  width: 70%;\n",
              "  font-size: 1.5em;\n",
              "  font-style: italic;\n",
              "  display: block;\n",
              "  line-height: 1.3em;\n",
              "  color: #5a75a7;\n",
              "  font-weight: 600;\n",
              "  border-left: 5px solid rgba(90, 117, 167, .1);\n",
              "  padding-left: 6px;\n",
              "}\n",
              ".notes {\n",
              "  font-style: italic;\n",
              "  display: block;\n",
              "  margin: 40px 10%;\n",
              "}\n",
              "img + em {\n",
              "  text-align: center;\n",
              "  display: block;\n",
              "  color: gray;\n",
              "  font-size: 0.9em;\n",
              "  font-weight: 600;\n",
              "}\n",
              "</style>"
            ],
            "text/plain": [
              "<IPython.core.display.HTML object>"
            ]
          },
          "metadata": {
            "tags": []
          }
        }
      ]
    },
    {
      "cell_type": "markdown",
      "metadata": {
        "id": "2-sYKEOQM7WE",
        "colab_type": "text"
      },
      "source": [
        "$$\n",
        "\\newcommand\\bs[1]{\\boldsymbol{#1}}\n",
        "$$"
      ]
    },
    {
      "cell_type": "markdown",
      "metadata": {
        "id": "gwNFZW_wM7WG",
        "colab_type": "text"
      },
      "source": [
        "<span class='notes'>\n",
        "    This content is part of a series following the chapter 2 on linear algebra from the [Deep Learning Book](http://www.deeplearningbook.org/) by Goodfellow, I., Bengio, Y., and Courville, A. (2016). It aims to provide intuitions/drawings/python code on mathematical theories and is constructed as my understanding of these concepts. You can check the syllabus in the [introduction post](https://hadrienj.github.io/posts/Deep-Learning-Book-Series-Introduction/).\n",
        "</span>"
      ]
    },
    {
      "cell_type": "markdown",
      "metadata": {
        "id": "lAHrG-bDM7WH",
        "colab_type": "text"
      },
      "source": [
        "# Introduction\n",
        "\n",
        "This is the first post/notebook of a series following the syllabus of the [linear algebra chapter from the Deep Learning Book](http://www.deeplearningbook.org/contents/linear_algebra.html) by Goodfellow et al.. This work is a collection of thoughts/details/developements/examples I made while reading this chapter. It is designed to help you go through their introduction to linear algebra. For more details about this series and the syllabus, please see the [introduction post](https://hadrienj.github.io/posts/Deep-Learning-Book-Series-Introduction/).\n",
        "\n",
        "This first chapter is quite light and concerns the basic elements used in linear algebra and their definitions. It also introduces important functions in Python/Numpy that we will use all along this series. It will explain how to create and use vectors and matrices through examples."
      ]
    },
    {
      "cell_type": "markdown",
      "metadata": {
        "id": "gglK4hyIM7WI",
        "colab_type": "text"
      },
      "source": [
        "# 2.1 Scalars, Vectors, Matrices and Tensors\n",
        "\n",
        "Let's start with some basic definitions:\n",
        "\n",
        "<img src=\"https://github.com/sri-spirited/deepLearningBook-Notes/blob/master/2.1%20Scalars%2C%20Vectors%2C%20Matrices%20and%20Tensors/images/scalar-vector-matrix-tensor.png?raw=1\" width=\"400\" alt=\"An example of a scalar, a vector, a matrix and a tensor\" title=\"Difference between a scalar, a vector, a matrix and a tensor\">\n",
        "<em>Difference between a scalar, a vector, a matrix and a tensor</em>\n",
        "\n",
        "- A scalar is a single number\n",
        "- A vector is an array of numbers.\n",
        "\n",
        "$$\n",
        "\\bs{x} =\\begin{bmatrix}\n",
        "    x_1 \\\\\\\\\n",
        "    x_2 \\\\\\\\\n",
        "    \\cdots \\\\\\\\\n",
        "    x_n\n",
        "\\end{bmatrix}\n",
        "$$\n",
        "\n",
        "- A matrix is a 2-D array\n",
        "\n",
        "$$\n",
        "\\bs{A}=\n",
        "\\begin{bmatrix}\n",
        "    A_{1,1} & A_{1,2} & \\cdots & A_{1,n} \\\\\\\\\n",
        "    A_{2,1} & A_{2,2} & \\cdots & A_{2,n} \\\\\\\\\n",
        "    \\cdots & \\cdots & \\cdots & \\cdots \\\\\\\\\n",
        "    A_{m,1} & A_{m,2} & \\cdots & A_{m,n}\n",
        "\\end{bmatrix}\n",
        "$$\n",
        "\n",
        "- A tensor is a $n$-dimensional array with $n>2$\n",
        "\n",
        "We will follow the conventions used in the [Deep Learning Book](http://www.deeplearningbook.org/):\n",
        "\n",
        "- scalars are written in lowercase and italics. For instance: $n$\n",
        "- vectors are written in lowercase, italics and bold type. For instance: $\\bs{x}$\n",
        "- matrices are written in uppercase, italics and bold. For instance: $\\bs{X}$"
      ]
    },
    {
      "cell_type": "markdown",
      "metadata": {
        "id": "tC0wMiidM7WJ",
        "colab_type": "text"
      },
      "source": [
        "### Example 1.\n",
        "\n",
        "#### Create a vector with Python and Numpy\n",
        "\n",
        "*Coding tip*: Unlike the `matrix()` function which necessarily creates $2$-dimensional matrices, you can create $n$-dimensionnal arrays with the `array()` function. The main advantage to use `matrix()` is the useful methods (conjugate transpose, inverse, matrix operations...). We will use the `array()` function in this series.\n",
        "\n",
        "We will start by creating a vector. This is just a $1$-dimensional array:"
      ]
    },
    {
      "cell_type": "code",
      "metadata": {
        "id": "pR8drRchM7WK",
        "colab_type": "code",
        "colab": {},
        "outputId": "6595c44b-6f85-4697-bae3-8daa103f268a"
      },
      "source": [
        "x = np.array([1, 2, 3, 4])\n",
        "x"
      ],
      "execution_count": null,
      "outputs": [
        {
          "output_type": "execute_result",
          "data": {
            "text/plain": [
              "array([1, 2, 3, 4])"
            ]
          },
          "metadata": {
            "tags": []
          },
          "execution_count": 41
        }
      ]
    },
    {
      "cell_type": "markdown",
      "metadata": {
        "id": "I0ii0A8OM7WP",
        "colab_type": "text"
      },
      "source": [
        "### Example 2.\n",
        "\n",
        "#### Create a (3x2) matrix with nested brackets\n",
        "\n",
        "The `array()` function can also create $2$-dimensional arrays with nested brackets:"
      ]
    },
    {
      "cell_type": "code",
      "metadata": {
        "id": "wHylr694M7WQ",
        "colab_type": "code",
        "colab": {},
        "outputId": "bcb9028d-9809-47e4-b995-17429b812bdf"
      },
      "source": [
        "A = np.array([[1, 2], [3, 4], [5, 6]])\n",
        "A"
      ],
      "execution_count": null,
      "outputs": [
        {
          "output_type": "execute_result",
          "data": {
            "text/plain": [
              "array([[1, 2],\n",
              "       [3, 4],\n",
              "       [5, 6]])"
            ]
          },
          "metadata": {
            "tags": []
          },
          "execution_count": 42
        }
      ]
    },
    {
      "cell_type": "markdown",
      "metadata": {
        "id": "OhcgVYrhM7WT",
        "colab_type": "text"
      },
      "source": [
        "### Shape\n",
        "\n",
        "The shape of an array (that is to say its dimensions) tells you the number of values for each dimension. For a $2$-dimensional array it will give you the number of rows and the number of columns. Let's find the shape of our preceding $2$-dimensional array `A`. Since `A` is a Numpy array (it was created with the `array()` function) you can access its shape with:"
      ]
    },
    {
      "cell_type": "code",
      "metadata": {
        "id": "7O9wE9DvM7WU",
        "colab_type": "code",
        "colab": {},
        "outputId": "1938c1b6-a3e6-4ba1-e9d3-d357bfaaef4e"
      },
      "source": [
        "A.shape"
      ],
      "execution_count": null,
      "outputs": [
        {
          "output_type": "execute_result",
          "data": {
            "text/plain": [
              "(3, 2)"
            ]
          },
          "metadata": {
            "tags": []
          },
          "execution_count": 43
        }
      ]
    },
    {
      "cell_type": "markdown",
      "metadata": {
        "id": "_-ER1eQMM7WX",
        "colab_type": "text"
      },
      "source": [
        "We can see that $\\bs{A}$ has 3 rows and 2 columns.\n",
        "\n",
        "Let's check the shape of our first vector:"
      ]
    },
    {
      "cell_type": "code",
      "metadata": {
        "id": "a-nl0rncM7WY",
        "colab_type": "code",
        "colab": {},
        "outputId": "c3264a8e-2dcc-4119-825d-672693b5d749"
      },
      "source": [
        "x.shape"
      ],
      "execution_count": null,
      "outputs": [
        {
          "output_type": "execute_result",
          "data": {
            "text/plain": [
              "(4,)"
            ]
          },
          "metadata": {
            "tags": []
          },
          "execution_count": 44
        }
      ]
    },
    {
      "cell_type": "markdown",
      "metadata": {
        "id": "B526cGYWM7Wc",
        "colab_type": "text"
      },
      "source": [
        "As expected, you can see that $\\bs{x}$ has only one dimension. The number corresponds to the length of the array:"
      ]
    },
    {
      "cell_type": "code",
      "metadata": {
        "id": "l0ukQ4FKM7Wc",
        "colab_type": "code",
        "colab": {},
        "outputId": "fe8edcb2-0eab-46fd-9c66-3a819ebe96e4"
      },
      "source": [
        "len(x)"
      ],
      "execution_count": null,
      "outputs": [
        {
          "output_type": "execute_result",
          "data": {
            "text/plain": [
              "4"
            ]
          },
          "metadata": {
            "tags": []
          },
          "execution_count": 45
        }
      ]
    },
    {
      "cell_type": "markdown",
      "metadata": {
        "id": "erzoQ0zmM7Wf",
        "colab_type": "text"
      },
      "source": [
        "# Transposition\n",
        "\n",
        "With transposition you can convert a row vector to a column vector and vice versa:\n",
        "\n",
        "<img src=\"https://github.com/sri-spirited/deepLearningBook-Notes/blob/master/2.1%20Scalars%2C%20Vectors%2C%20Matrices%20and%20Tensors/images/vector-transposition.png?raw=1\" alt=\"Transposition of a vector\" title=\"Vector transposition\" width=\"200\">\n",
        "<em>Vector transposition</em>\n",
        "\n",
        "The transpose $\\bs{A}^{\\text{T}}$ of the matrix $\\bs{A}$ corresponds to the mirrored axes. If the matrix is a square matrix (same number of columns and rows):\n",
        "\n",
        "<img src=\"https://github.com/sri-spirited/deepLearningBook-Notes/blob/master/2.1%20Scalars%2C%20Vectors%2C%20Matrices%20and%20Tensors/images/square-matrix-transposition.png?raw=1\" alt=\"Transposition of a square matrix\" title=\"Square matrix transposition\" width=\"300\">\n",
        "<em>Square matrix transposition</em>\n",
        "\n",
        "If the matrix is not square the idea is the same:\n",
        "\n",
        "<img src=\"https://github.com/sri-spirited/deepLearningBook-Notes/blob/master/2.1%20Scalars%2C%20Vectors%2C%20Matrices%20and%20Tensors/images/non-squared-matrix-transposition.png?raw=1\" alt=\"Transposition of a square matrix\" title=\"Non square matrix transposition\" width=\"300\">\n",
        "<em>Non-square matrix transposition</em>\n",
        "\n",
        "\n",
        "The superscript $^\\text{T}$ is used for transposed matrices.\n",
        "\n",
        "$$\n",
        "\\bs{A}=\n",
        "\\begin{bmatrix}\n",
        "    A_{1,1} & A_{1,2} \\\\\\\\\n",
        "    A_{2,1} & A_{2,2} \\\\\\\\\n",
        "    A_{3,1} & A_{3,2}\n",
        "\\end{bmatrix}\n",
        "$$\n",
        "\n",
        "$$\n",
        "\\bs{A}^{\\text{T}}=\n",
        "\\begin{bmatrix}\n",
        "    A_{1,1} & A_{2,1} & A_{3,1} \\\\\\\\\n",
        "    A_{1,2} & A_{2,2} & A_{3,2}\n",
        "\\end{bmatrix}\n",
        "$$\n",
        "\n",
        "The shape ($m \\times n$) is inverted and becomes ($n \\times m$).\n",
        "\n",
        "<img src=\"https://github.com/sri-spirited/deepLearningBook-Notes/blob/master/2.1%20Scalars%2C%20Vectors%2C%20Matrices%20and%20Tensors/images/dimensions-transposition-matrix.png?raw=1\" alt=\"Dimensions of matrix transposition\" title=\"Dimensions of matrix transposition\" width=\"300\">\n",
        "<em>Dimensions of matrix transposition</em>"
      ]
    },
    {
      "cell_type": "markdown",
      "metadata": {
        "id": "wcM5XBkrM7Wg",
        "colab_type": "text"
      },
      "source": [
        "### Example 3.\n",
        "\n",
        "#### Create a matrix A and transpose it"
      ]
    },
    {
      "cell_type": "code",
      "metadata": {
        "id": "t_8r_0zXM7Wh",
        "colab_type": "code",
        "colab": {},
        "outputId": "c4e70009-17f1-476f-c8c5-b51a959ecc16"
      },
      "source": [
        "A = np.array([[1, 2], [3, 4], [5, 6]])\n",
        "A"
      ],
      "execution_count": null,
      "outputs": [
        {
          "output_type": "execute_result",
          "data": {
            "text/plain": [
              "array([[1, 2],\n",
              "       [3, 4],\n",
              "       [5, 6]])"
            ]
          },
          "metadata": {
            "tags": []
          },
          "execution_count": 46
        }
      ]
    },
    {
      "cell_type": "code",
      "metadata": {
        "id": "gThmon8TM7Wk",
        "colab_type": "code",
        "colab": {},
        "outputId": "225ba241-b2cd-4a5c-fca7-af29f6a727e3"
      },
      "source": [
        "A_t = A.T\n",
        "A_t"
      ],
      "execution_count": null,
      "outputs": [
        {
          "output_type": "execute_result",
          "data": {
            "text/plain": [
              "array([[1, 3, 5],\n",
              "       [2, 4, 6]])"
            ]
          },
          "metadata": {
            "tags": []
          },
          "execution_count": 47
        }
      ]
    },
    {
      "cell_type": "markdown",
      "metadata": {
        "id": "Y1NcS8zNM7Wn",
        "colab_type": "text"
      },
      "source": [
        "We can check the dimensions of the matrices:"
      ]
    },
    {
      "cell_type": "code",
      "metadata": {
        "id": "CZuLrIOUM7Wo",
        "colab_type": "code",
        "colab": {},
        "outputId": "341cad63-3555-4256-acce-5365227c4d0a"
      },
      "source": [
        "A.shape"
      ],
      "execution_count": null,
      "outputs": [
        {
          "output_type": "execute_result",
          "data": {
            "text/plain": [
              "(3, 2)"
            ]
          },
          "metadata": {
            "tags": []
          },
          "execution_count": 48
        }
      ]
    },
    {
      "cell_type": "code",
      "metadata": {
        "id": "QYPrmiT8M7Ws",
        "colab_type": "code",
        "colab": {},
        "outputId": "36cc10a5-500c-4f42-9bf6-35f040c53ebb"
      },
      "source": [
        "A_t.shape"
      ],
      "execution_count": null,
      "outputs": [
        {
          "output_type": "execute_result",
          "data": {
            "text/plain": [
              "(2, 3)"
            ]
          },
          "metadata": {
            "tags": []
          },
          "execution_count": 49
        }
      ]
    },
    {
      "cell_type": "markdown",
      "metadata": {
        "id": "GK_yvjtlM7Wv",
        "colab_type": "text"
      },
      "source": [
        "We can see that the number of columns becomes the number of rows with transposition and vice versa."
      ]
    },
    {
      "cell_type": "markdown",
      "metadata": {
        "id": "Y1u0WG6ZM7Wv",
        "colab_type": "text"
      },
      "source": [
        "# Addition\n",
        "\n",
        "<img src=\"https://github.com/sri-spirited/deepLearningBook-Notes/blob/master/2.1%20Scalars%2C%20Vectors%2C%20Matrices%20and%20Tensors/images/matrix-addition.png?raw=1\" alt=\"Addition of two matrices\" title=\"Addition of two matrices\" width=\"300\">\n",
        "<em>Addition of two matrices</em>\n",
        "\n",
        "Matrices can be added if they have the same shape:\n",
        "\n",
        "$$\\bs{A} + \\bs{B} = \\bs{C}$$\n",
        "\n",
        "Each cell of $\\bs{A}$ is added to the corresponding cell of $\\bs{B}$:\n",
        "\n",
        "$$\\bs{A}_{i,j} + \\bs{B}_{i,j} = \\bs{C}_{i,j}$$\n",
        "\n",
        "$i$ is the row index and $j$ the column index.\n",
        "\n",
        "$$\n",
        "\\begin{bmatrix}\n",
        "    A_{1,1} & A_{1,2} \\\\\\\\\n",
        "    A_{2,1} & A_{2,2} \\\\\\\\\n",
        "    A_{3,1} & A_{3,2}\n",
        "\\end{bmatrix}+\n",
        "\\begin{bmatrix}\n",
        "    B_{1,1} & B_{1,2} \\\\\\\\\n",
        "    B_{2,1} & B_{2,2} \\\\\\\\\n",
        "    B_{3,1} & B_{3,2}\n",
        "\\end{bmatrix}=\n",
        "\\begin{bmatrix}\n",
        "    A_{1,1} + B_{1,1} & A_{1,2} + B_{1,2} \\\\\\\\\n",
        "    A_{2,1} + B_{2,1} & A_{2,2} + B_{2,2} \\\\\\\\\n",
        "    A_{3,1} + B_{3,1} & A_{3,2} + B_{3,2}\n",
        "\\end{bmatrix}\n",
        "$$\n",
        "\n",
        "The shape of $\\bs{A}$, $\\bs{B}$ and $\\bs{C}$ are identical. Let's check that in an example:"
      ]
    },
    {
      "cell_type": "markdown",
      "metadata": {
        "id": "ZKnbO_1TM7Wv",
        "colab_type": "text"
      },
      "source": [
        "### Example 4.\n",
        "\n",
        "#### Create two matrices A and B and add them\n",
        "\n",
        "With Numpy you can add matrices just as you would add vectors or scalars."
      ]
    },
    {
      "cell_type": "code",
      "metadata": {
        "id": "CGDpMJKFM7Ww",
        "colab_type": "code",
        "colab": {},
        "outputId": "72f90b9b-e428-4216-ef7f-91b954244cb2"
      },
      "source": [
        "A = np.array([[1, 2], [3, 4], [5, 6]])\n",
        "A"
      ],
      "execution_count": null,
      "outputs": [
        {
          "output_type": "execute_result",
          "data": {
            "text/plain": [
              "array([[1, 2],\n",
              "       [3, 4],\n",
              "       [5, 6]])"
            ]
          },
          "metadata": {
            "tags": []
          },
          "execution_count": 50
        }
      ]
    },
    {
      "cell_type": "code",
      "metadata": {
        "id": "a6ysMcBoM7Wy",
        "colab_type": "code",
        "colab": {},
        "outputId": "26e9b796-c80f-4b4b-c67a-9a2aea2afb8d"
      },
      "source": [
        "B = np.array([[2, 5], [7, 4], [4, 3]])\n",
        "B"
      ],
      "execution_count": null,
      "outputs": [
        {
          "output_type": "execute_result",
          "data": {
            "text/plain": [
              "array([[2, 5],\n",
              "       [7, 4],\n",
              "       [4, 3]])"
            ]
          },
          "metadata": {
            "tags": []
          },
          "execution_count": 51
        }
      ]
    },
    {
      "cell_type": "code",
      "metadata": {
        "id": "oN36-EtNM7W0",
        "colab_type": "code",
        "colab": {},
        "outputId": "9977f759-7843-4894-d161-15b5255e807e"
      },
      "source": [
        "# Add matrices A and B\n",
        "C = A + B\n",
        "C"
      ],
      "execution_count": null,
      "outputs": [
        {
          "output_type": "execute_result",
          "data": {
            "text/plain": [
              "array([[ 3,  7],\n",
              "       [10,  8],\n",
              "       [ 9,  9]])"
            ]
          },
          "metadata": {
            "tags": []
          },
          "execution_count": 52
        }
      ]
    },
    {
      "cell_type": "markdown",
      "metadata": {
        "id": "y6xSvv1-M7W3",
        "colab_type": "text"
      },
      "source": [
        "It is also possible to add a scalar to a matrix. This means adding this scalar to each cell of the matrix.\n",
        "\n",
        "$$\n",
        "\\alpha+ \\begin{bmatrix}\n",
        "    A_{1,1} & A_{1,2} \\\\\\\\\n",
        "    A_{2,1} & A_{2,2} \\\\\\\\\n",
        "    A_{3,1} & A_{3,2}\n",
        "\\end{bmatrix}=\n",
        "\\begin{bmatrix}\n",
        "    \\alpha + A_{1,1} & \\alpha + A_{1,2} \\\\\\\\\n",
        "    \\alpha + A_{2,1} & \\alpha + A_{2,2} \\\\\\\\\n",
        "    \\alpha + A_{3,1} & \\alpha + A_{3,2}\n",
        "\\end{bmatrix}\n",
        "$$"
      ]
    },
    {
      "cell_type": "markdown",
      "metadata": {
        "id": "wFH0VgWTM7W3",
        "colab_type": "text"
      },
      "source": [
        "### Example 5.\n",
        "\n",
        "#### Add a scalar to a matrix"
      ]
    },
    {
      "cell_type": "code",
      "metadata": {
        "id": "Mnqk8q32M7W4",
        "colab_type": "code",
        "colab": {},
        "outputId": "3dff0461-76d4-4144-b85e-492b34b22618"
      },
      "source": [
        "A"
      ],
      "execution_count": null,
      "outputs": [
        {
          "output_type": "execute_result",
          "data": {
            "text/plain": [
              "array([[1, 2],\n",
              "       [3, 4],\n",
              "       [5, 6]])"
            ]
          },
          "metadata": {
            "tags": []
          },
          "execution_count": 53
        }
      ]
    },
    {
      "cell_type": "code",
      "metadata": {
        "id": "xkEoaswXM7W8",
        "colab_type": "code",
        "colab": {},
        "outputId": "ba5f4410-5207-4fa6-cf58-ebb0c0e69e19"
      },
      "source": [
        "# Exemple: Add 4 to the matrix A\n",
        "C = A+4\n",
        "C"
      ],
      "execution_count": null,
      "outputs": [
        {
          "output_type": "execute_result",
          "data": {
            "text/plain": [
              "array([[ 5,  6],\n",
              "       [ 7,  8],\n",
              "       [ 9, 10]])"
            ]
          },
          "metadata": {
            "tags": []
          },
          "execution_count": 54
        }
      ]
    },
    {
      "cell_type": "markdown",
      "metadata": {
        "id": "urEVJFvPM7W-",
        "colab_type": "text"
      },
      "source": [
        "# Broadcasting\n",
        "\n",
        "Numpy can handle operations on arrays of different shapes. The smaller array will be extended to match the shape of the bigger one. The advantage is that this is done in `C` under the hood (like any vectorized operations in Numpy). Actually, we used broadcasting in the example 5. The scalar was converted in an array of same shape as $\\bs{A}$.\n",
        "\n",
        "Here is another generic example:\n",
        "\n",
        "$$\n",
        "\\begin{bmatrix}\n",
        "    A_{1,1} & A_{1,2} \\\\\\\\\n",
        "    A_{2,1} & A_{2,2} \\\\\\\\\n",
        "    A_{3,1} & A_{3,2}\n",
        "\\end{bmatrix}+\n",
        "\\begin{bmatrix}\n",
        "    B_{1,1} \\\\\\\\\n",
        "    B_{2,1} \\\\\\\\\n",
        "    B_{3,1}\n",
        "\\end{bmatrix}\n",
        "$$\n",
        "\n",
        "is equivalent to\n",
        "\n",
        "$$\n",
        "\\begin{bmatrix}\n",
        "    A_{1,1} & A_{1,2} \\\\\\\\\n",
        "    A_{2,1} & A_{2,2} \\\\\\\\\n",
        "    A_{3,1} & A_{3,2}\n",
        "\\end{bmatrix}+\n",
        "\\begin{bmatrix}\n",
        "    B_{1,1} & B_{1,1} \\\\\\\\\n",
        "    B_{2,1} & B_{2,1} \\\\\\\\\n",
        "    B_{3,1} & B_{3,1}\n",
        "\\end{bmatrix}=\n",
        "\\begin{bmatrix}\n",
        "    A_{1,1} + B_{1,1} & A_{1,2} + B_{1,1} \\\\\\\\\n",
        "    A_{2,1} + B_{2,1} & A_{2,2} + B_{2,1} \\\\\\\\\n",
        "    A_{3,1} + B_{3,1} & A_{3,2} + B_{3,1}\n",
        "\\end{bmatrix}\n",
        "$$\n",
        "\n",
        "where the ($3 \\times 1$) matrix is converted to the right shape ($3 \\times 2$) by copying the first column. Numpy will do that automatically if the shapes can match."
      ]
    },
    {
      "cell_type": "markdown",
      "metadata": {
        "id": "Fp52g3TRM7W_",
        "colab_type": "text"
      },
      "source": [
        "### Example 6.\n",
        "\n",
        "#### Add two matrices of different shapes"
      ]
    },
    {
      "cell_type": "code",
      "metadata": {
        "id": "5hFR8pTzM7W_",
        "colab_type": "code",
        "colab": {},
        "outputId": "f7d502c2-18e0-428d-e354-2ba46b6090fe"
      },
      "source": [
        "A = np.array([[1, 2], [3, 4], [5, 6]])\n",
        "A"
      ],
      "execution_count": null,
      "outputs": [
        {
          "output_type": "execute_result",
          "data": {
            "text/plain": [
              "array([[1, 2],\n",
              "       [3, 4],\n",
              "       [5, 6]])"
            ]
          },
          "metadata": {
            "tags": []
          },
          "execution_count": 55
        }
      ]
    },
    {
      "cell_type": "code",
      "metadata": {
        "id": "COoeVG4iM7XB",
        "colab_type": "code",
        "colab": {},
        "outputId": "32ab0fa9-f2ab-4a9b-f500-dcddd1a52566"
      },
      "source": [
        "B = np.array([[2], [4], [6]])\n",
        "B"
      ],
      "execution_count": null,
      "outputs": [
        {
          "output_type": "execute_result",
          "data": {
            "text/plain": [
              "array([[2],\n",
              "       [4],\n",
              "       [6]])"
            ]
          },
          "metadata": {
            "tags": []
          },
          "execution_count": 56
        }
      ]
    },
    {
      "cell_type": "code",
      "metadata": {
        "id": "prp7hN_3M7XE",
        "colab_type": "code",
        "colab": {},
        "outputId": "ae35825f-4624-4e4d-ffda-95d6315b659b"
      },
      "source": [
        "# Broadcasting\n",
        "C=A+B\n",
        "C"
      ],
      "execution_count": null,
      "outputs": [
        {
          "output_type": "execute_result",
          "data": {
            "text/plain": [
              "array([[ 3,  4],\n",
              "       [ 7,  8],\n",
              "       [11, 12]])"
            ]
          },
          "metadata": {
            "tags": []
          },
          "execution_count": 57
        }
      ]
    },
    {
      "cell_type": "markdown",
      "metadata": {
        "id": "C3jMgzkhM7XH",
        "colab_type": "text"
      },
      "source": [
        "You can find basics operations on matrices simply explained [here](https://www.mathsisfun.com/algebra/matrix-introduction.html)."
      ]
    },
    {
      "cell_type": "markdown",
      "metadata": {
        "id": "5dJ7N-kxM7XH",
        "colab_type": "text"
      },
      "source": [
        "<span class='notes'>\n",
        "    Feel free to drop me an email or a comment. The syllabus of this series can be found [in the introduction post](https://hadrienj.github.io/posts/Deep-Learning-Book-Series-Introduction/). All the notebooks can be found on [Github](https://github.com/hadrienj/deepLearningBook-Notes).\n",
        "</span>"
      ]
    },
    {
      "cell_type": "markdown",
      "metadata": {
        "id": "JKdFJHzpM7XI",
        "colab_type": "text"
      },
      "source": [
        "# References\n",
        "\n",
        "- [Broadcasting in Numpy](https://docs.scipy.org/doc/numpy-1.13.0/user/basics.broadcasting.html)\n",
        "\n",
        "- [Discussion on Arrays and matrices](https://stackoverflow.com/questions/4151128/what-are-the-differences-between-numpy-arrays-and-matrices-which-one-should-i-u)\n",
        "\n",
        "- [Math is fun - Matrix introduction](https://www.mathsisfun.com/algebra/matrix-introduction.html)"
      ]
    }
  ]
}